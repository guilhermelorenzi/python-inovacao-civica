{
 "cells": [
  {
   "cell_type": "markdown",
   "source": [
    "# Desafio 2: Licitações publicadas hoje no Diário Oficial da União"
   ],
   "metadata": {}
  },
  {
   "cell_type": "markdown",
   "source": [
    "Neste desafio você irá **acessar o Portal de Compras do Governo Federal (ComprasNET)** e raspar a **descrição** de todas as licitações que foram publicadas hoje no Diário Oficial da União.\n",
    "\n",
    "Antes de começar o desafio, [acesse o site](http://comprasnet.gov.br/ConsultaLicitacoes/ConsLicitacaoDia.asp) e se familiarize com ele. É esperado que tenha bastantes licitações sendo publicadas diariamente. É assim mesmo :)\n",
    "\n",
    "Este desafio é mais livre, assim você pode experimentar mais :)"
   ],
   "metadata": {}
  },
  {
   "cell_type": "markdown",
   "source": [
    "## Importando as bibliotecas\n",
    "\n",
    "O fluxo de raspagem deve ser:\n",
    "\n",
    "1. Acessar a primeira página que apresenta as licitações de hoje\n",
    "2. Raspar a descrição de todas as licitações da página individualmente  \n",
    "   2.1. Raspe como se fosse um bloco de texto corrido mesmo  \n",
    "   2.2. Sem raspar nenhuma etiqueta HTML junto com o texto   \n",
    "3. Adicionar os itens da página em um `DataFrame` da `pandas` apenas com os campos `data` (dia de hoje) e `descricao` (descrição da licitação)\n",
    "4. Repetir os passos 1, 2 e 3 para cada página\n",
    "5. Salvar o `DataFrame` em JSON\n",
    "\n",
    "Realize aqui os `import` necessários para esta tarefa:"
   ],
   "metadata": {}
  },
  {
   "cell_type": "code",
   "execution_count": 1,
   "source": [
    "import datetime\r\n",
    "\r\n",
    "import pandas as pd\r\n",
    "from requests_html import HTMLSession"
   ],
   "outputs": [],
   "metadata": {}
  },
  {
   "cell_type": "markdown",
   "source": [
    "## Acessando a página inicial"
   ],
   "metadata": {}
  },
  {
   "cell_type": "code",
   "execution_count": 2,
   "source": [
    "url = \"http://comprasnet.gov.br/ConsultaLicitacoes/ConsLicitacaoDia.asp\"\r\n",
    "session = HTMLSession()\r\n",
    "response = session.get(url)"
   ],
   "outputs": [],
   "metadata": {}
  },
  {
   "cell_type": "markdown",
   "source": [
    "## Extraindo os itens da página inicial"
   ],
   "metadata": {}
  },
  {
   "cell_type": "code",
   "execution_count": 3,
   "source": [
    "licitacoes = []\r\n",
    "rows = response.html.xpath(\"//form\")\r\n",
    "for row in rows:\r\n",
    "    descricao = row.xpath(\"./form/table/tr[2]//text()\")\r\n",
    "    descricao = '\\n'.join(descricao).strip()\r\n",
    "    item = {\r\n",
    "        \"data\": datetime.date.today(),\r\n",
    "        \"descricao\": descricao,\r\n",
    "    }\r\n",
    "    licitacoes.append(item)"
   ],
   "outputs": [],
   "metadata": {}
  },
  {
   "cell_type": "markdown",
   "source": [
    "## Adicionando ao DataFrame"
   ],
   "metadata": {}
  },
  {
   "cell_type": "code",
   "execution_count": 5,
   "source": [
    "df_licitacoes = pd.DataFrame(licitacoes)"
   ],
   "outputs": [],
   "metadata": {}
  },
  {
   "cell_type": "code",
   "execution_count": 6,
   "source": [
    "df_licitacoes"
   ],
   "outputs": [
    {
     "output_type": "execute_result",
     "data": {
      "text/html": [
       "<div>\n",
       "<style scoped>\n",
       "    .dataframe tbody tr th:only-of-type {\n",
       "        vertical-align: middle;\n",
       "    }\n",
       "\n",
       "    .dataframe tbody tr th {\n",
       "        vertical-align: top;\n",
       "    }\n",
       "\n",
       "    .dataframe thead th {\n",
       "        text-align: right;\n",
       "    }\n",
       "</style>\n",
       "<table border=\"1\" class=\"dataframe\">\n",
       "  <thead>\n",
       "    <tr style=\"text-align: right;\">\n",
       "      <th></th>\n",
       "      <th>data</th>\n",
       "      <th>descricao</th>\n",
       "    </tr>\n",
       "  </thead>\n",
       "  <tbody>\n",
       "    <tr>\n",
       "      <th>0</th>\n",
       "      <td>2021-09-24</td>\n",
       "      <td>MINISTÉRIO DA EDUCAÇÃO\\nUNIVERSIDADE FEDERAL D...</td>\n",
       "    </tr>\n",
       "    <tr>\n",
       "      <th>1</th>\n",
       "      <td>2021-09-24</td>\n",
       "      <td>MINISTÉRIO DA EDUCAÇÃO\\nUniversidade Federal d...</td>\n",
       "    </tr>\n",
       "    <tr>\n",
       "      <th>2</th>\n",
       "      <td>2021-09-24</td>\n",
       "      <td>MINISTÉRIO DA EDUCAÇÃO\\nINSTITUTO FEDERAL DE E...</td>\n",
       "    </tr>\n",
       "    <tr>\n",
       "      <th>3</th>\n",
       "      <td>2021-09-24</td>\n",
       "      <td>MINISTÉRIO DA DEFESA\\nComando do Exército\\nCom...</td>\n",
       "    </tr>\n",
       "    <tr>\n",
       "      <th>4</th>\n",
       "      <td>2021-09-24</td>\n",
       "      <td>MINISTÉRIO DA CIÊNCIA, TECNOLOGIA, INOVAÇÃO E ...</td>\n",
       "    </tr>\n",
       "    <tr>\n",
       "      <th>5</th>\n",
       "      <td>2021-09-24</td>\n",
       "      <td>PREFEITURA MUNICIPAL DE BELÉM\\nCódigo da UASG:...</td>\n",
       "    </tr>\n",
       "    <tr>\n",
       "      <th>6</th>\n",
       "      <td>2021-09-24</td>\n",
       "      <td>Fundação Pública Estadual Hospital de Clínicas...</td>\n",
       "    </tr>\n",
       "    <tr>\n",
       "      <th>7</th>\n",
       "      <td>2021-09-24</td>\n",
       "      <td>PREFEITURA MUNICIPAL DE JABOATÃO DOS GUARARAPE...</td>\n",
       "    </tr>\n",
       "    <tr>\n",
       "      <th>8</th>\n",
       "      <td>2021-09-24</td>\n",
       "      <td>Empresa Brasileira de Serviços Hospitalares - ...</td>\n",
       "    </tr>\n",
       "    <tr>\n",
       "      <th>9</th>\n",
       "      <td>2021-09-24</td>\n",
       "      <td>HOSPITAL METROPOLITANO ODILON BEHERENS\\nCódigo...</td>\n",
       "    </tr>\n",
       "    <tr>\n",
       "      <th>10</th>\n",
       "      <td>2021-09-24</td>\n",
       "      <td>PREFEITURA MUNICIPAL DE MONTEIRO - PB\\nCódigo ...</td>\n",
       "    </tr>\n",
       "    <tr>\n",
       "      <th>11</th>\n",
       "      <td>2021-09-24</td>\n",
       "      <td>Prefeitura Municipal de Guarai\\nCódigo da UASG...</td>\n",
       "    </tr>\n",
       "    <tr>\n",
       "      <th>12</th>\n",
       "      <td>2021-09-24</td>\n",
       "      <td>PODER JUDICIÁRIO\\nTribunal Regional Federal\\nT...</td>\n",
       "    </tr>\n",
       "    <tr>\n",
       "      <th>13</th>\n",
       "      <td>2021-09-24</td>\n",
       "      <td>MINISTÉRIO DA EDUCAÇÃO\\nSecretaria Executiva\\n...</td>\n",
       "    </tr>\n",
       "    <tr>\n",
       "      <th>14</th>\n",
       "      <td>2021-09-24</td>\n",
       "      <td>SECRETAIA-GERAL DE GOVERNO - SGG\\nFundação Uni...</td>\n",
       "    </tr>\n",
       "    <tr>\n",
       "      <th>15</th>\n",
       "      <td>2021-09-24</td>\n",
       "      <td>PREF.MUN.DE ITATIAIUCU\\nCódigo da UASG: 984673...</td>\n",
       "    </tr>\n",
       "    <tr>\n",
       "      <th>16</th>\n",
       "      <td>2021-09-24</td>\n",
       "      <td>PREFEITURA MUNICIPAL ECHAPORÃ/SP\\nCódigo da UA...</td>\n",
       "    </tr>\n",
       "    <tr>\n",
       "      <th>17</th>\n",
       "      <td>2021-09-24</td>\n",
       "      <td>MUNICIPIO DE RIO NEGRO\\nCódigo da UASG: 987823...</td>\n",
       "    </tr>\n",
       "    <tr>\n",
       "      <th>18</th>\n",
       "      <td>2021-09-24</td>\n",
       "      <td>PREFEITURA MUNICIPAL DE SANTA BARBARA DE GOIAS...</td>\n",
       "    </tr>\n",
       "    <tr>\n",
       "      <th>19</th>\n",
       "      <td>2021-09-24</td>\n",
       "      <td>PODER JUDICIÁRIO\\nTribunal Superior do Trabalh...</td>\n",
       "    </tr>\n",
       "  </tbody>\n",
       "</table>\n",
       "</div>"
      ],
      "text/plain": [
       "          data                                          descricao\n",
       "0   2021-09-24  MINISTÉRIO DA EDUCAÇÃO\\nUNIVERSIDADE FEDERAL D...\n",
       "1   2021-09-24  MINISTÉRIO DA EDUCAÇÃO\\nUniversidade Federal d...\n",
       "2   2021-09-24  MINISTÉRIO DA EDUCAÇÃO\\nINSTITUTO FEDERAL DE E...\n",
       "3   2021-09-24  MINISTÉRIO DA DEFESA\\nComando do Exército\\nCom...\n",
       "4   2021-09-24  MINISTÉRIO DA CIÊNCIA, TECNOLOGIA, INOVAÇÃO E ...\n",
       "5   2021-09-24  PREFEITURA MUNICIPAL DE BELÉM\\nCódigo da UASG:...\n",
       "6   2021-09-24  Fundação Pública Estadual Hospital de Clínicas...\n",
       "7   2021-09-24  PREFEITURA MUNICIPAL DE JABOATÃO DOS GUARARAPE...\n",
       "8   2021-09-24  Empresa Brasileira de Serviços Hospitalares - ...\n",
       "9   2021-09-24  HOSPITAL METROPOLITANO ODILON BEHERENS\\nCódigo...\n",
       "10  2021-09-24  PREFEITURA MUNICIPAL DE MONTEIRO - PB\\nCódigo ...\n",
       "11  2021-09-24  Prefeitura Municipal de Guarai\\nCódigo da UASG...\n",
       "12  2021-09-24  PODER JUDICIÁRIO\\nTribunal Regional Federal\\nT...\n",
       "13  2021-09-24  MINISTÉRIO DA EDUCAÇÃO\\nSecretaria Executiva\\n...\n",
       "14  2021-09-24  SECRETAIA-GERAL DE GOVERNO - SGG\\nFundação Uni...\n",
       "15  2021-09-24  PREF.MUN.DE ITATIAIUCU\\nCódigo da UASG: 984673...\n",
       "16  2021-09-24  PREFEITURA MUNICIPAL ECHAPORÃ/SP\\nCódigo da UA...\n",
       "17  2021-09-24  MUNICIPIO DE RIO NEGRO\\nCódigo da UASG: 987823...\n",
       "18  2021-09-24  PREFEITURA MUNICIPAL DE SANTA BARBARA DE GOIAS...\n",
       "19  2021-09-24  PODER JUDICIÁRIO\\nTribunal Superior do Trabalh..."
      ]
     },
     "metadata": {},
     "execution_count": 6
    }
   ],
   "metadata": {}
  },
  {
   "cell_type": "markdown",
   "source": [
    "## Replicando para todas as páginas\n",
    "\n",
    "Recomenda-se transformar a extração de conteúdo da página em uma função que pode ser chamada para cada página."
   ],
   "metadata": {}
  },
  {
   "cell_type": "code",
   "execution_count": 8,
   "source": [
    "def extract_licitacoes(response):\r\n",
    "    \"\"\"Se desejar, preencha esta função\"\"\"\r\n",
    "    licitacoes = []\r\n",
    "    rows = response.html.xpath(\"//form\")\r\n",
    "    for row in rows:\r\n",
    "        descricao = row.xpath(\"./form/table/tr[2]//text()\")\r\n",
    "        descricao = '\\n'.join(descricao).strip()\r\n",
    "        item = {\r\n",
    "            \"data\": datetime.date.today(),\r\n",
    "            \"descricao\": descricao,\r\n",
    "        }\r\n",
    "        licitacoes.append(item)\r\n",
    "    return licitacoes"
   ],
   "outputs": [],
   "metadata": {}
  },
  {
   "cell_type": "markdown",
   "source": [
    "E continuar o fluxo de extrações, página a página."
   ],
   "metadata": {}
  },
  {
   "cell_type": "code",
   "execution_count": 10,
   "source": [
    "page = 1\r\n",
    "next_page_button = response.html.xpath(\"//input[@name='proxima']\")\r\n",
    "while next_page_button:\r\n",
    "    page += 1\r\n",
    "    next_page_url = f\"{url}?pagina={page}\"\r\n",
    "    response = session.get(next_page_url)\r\n",
    "    licitacoes = extract_licitacoes(response)\r\n",
    "    df_licitacoes = df_licitacoes.append(pd.DataFrame(licitacoes))\r\n",
    "    next_page_button = response.html.xpath(\"//input[@name='proxima']\")"
   ],
   "outputs": [],
   "metadata": {}
  },
  {
   "cell_type": "markdown",
   "source": [
    "## Salvando em JSON"
   ],
   "metadata": {}
  },
  {
   "cell_type": "code",
   "execution_count": 11,
   "source": [
    "df_licitacoes.to_json('licitacoes.json', orient=\"records\", date_format=\"iso\")"
   ],
   "outputs": [],
   "metadata": {}
  }
 ],
 "metadata": {
  "kernelspec": {
   "name": "python3",
   "display_name": "Python 3.9.6 64-bit ('env': venv)"
  },
  "language_info": {
   "codemirror_mode": {
    "name": "ipython",
    "version": 3
   },
   "file_extension": ".py",
   "mimetype": "text/x-python",
   "name": "python",
   "nbconvert_exporter": "python",
   "pygments_lexer": "ipython3",
   "version": "3.9.6"
  },
  "interpreter": {
   "hash": "ebd74a025396637c742ea4567281786878b5475963cf97e0bf6beb9df69a31d7"
  }
 },
 "nbformat": 4,
 "nbformat_minor": 5
}