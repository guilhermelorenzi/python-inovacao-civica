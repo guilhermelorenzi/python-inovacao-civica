{
 "cells": [
  {
   "cell_type": "markdown",
   "source": [
    "# Desafio 1: Licitações da Secretaria de Educação de São Paulo no Portal de Compras Federal"
   ],
   "metadata": {}
  },
  {
   "cell_type": "markdown",
   "source": [
    "Neste desafio você irá **acessar o Portal de Compras do Governo Federal (ComprasNET)** e fazer uma busca no sistema para encontrar **todas** as licitações em formato de **pregão eletrônico** em andamento da **Secretaria de Educação de São Paulo**.\n",
    "\n",
    "Antes de começar o desafio, [acesse o site](http://comprasnet.gov.br/acesso.asp?url=/livre/Pregao/lista_pregao_filtro.asp?Opc=2) e se familiarize com ele. A UASG ([Unidade de Administração de Serviços Gerais](http://www.comprasnet.gov.br/publicacoes/cartilha/glossario.asp)) da Secretaria de Educação de São Paulo é **925013**. É possível encontrar UASG de outras entidades da administração pública na internet facilmente se quiser experimentar :)\n",
    "\n",
    "Lembre-se que as Ferramentas de Desenvolvimento do Chrome são essenciais nesse desafio!"
   ],
   "metadata": {}
  },
  {
   "cell_type": "markdown",
   "source": [
    "## Importando as bibliotecas que iremos utilizar\n",
    "\n",
    "O fluxo da nossa solução será o seguinte:\n",
    "\n",
    "1. Acessar a página inicial da consulta iniciando uma sessão com `requests_html`\n",
    "2. Realizar a consulta com os parâmetros apropriados\n",
    "3. Extrair as informações da tabela de resultados encontrada na página\n",
    "4. Salvar o conteúdo em CSV usando a biblioteca nativa do Python `csv`\n",
    "5. Salvar o conteúdo em CSV mas usando a biblioteca `pandas`\n",
    "\n",
    "Então, os `import` a seguir são os necessários para esta tarefa."
   ],
   "metadata": {}
  },
  {
   "cell_type": "code",
   "execution_count": 1,
   "source": [
    "import csv\r\n",
    "\r\n",
    "import pandas as pd\r\n",
    "from requests_html import HTMLSession"
   ],
   "outputs": [],
   "metadata": {}
  },
  {
   "cell_type": "markdown",
   "source": [
    "## Acessando a página inicial\n",
    "\n",
    "Precisaremos criar uma sessão (como se fosse uma sessão de navegação mesmo) acessando a página inicial para depois fazer a requisição que irá submeter o formulário (realizar a consulta).\n",
    "\n",
    "Primeiro, vamos guardar a nossa URL inicial em uma variável:"
   ],
   "metadata": {}
  },
  {
   "cell_type": "code",
   "execution_count": 2,
   "source": [
    "url = \"http://comprasnet.gov.br/acesso.asp?url=/livre/Pregao/lista_pregao_filtro.asp?Opc=2\""
   ],
   "outputs": [],
   "metadata": {}
  },
  {
   "cell_type": "markdown",
   "source": [
    "E então, podemos criar uma sessão e fazer uma requisição para a página inicial:"
   ],
   "metadata": {}
  },
  {
   "cell_type": "code",
   "execution_count": 3,
   "source": [
    "session = HTMLSession()\r\n",
    "first_page = session.get(url)"
   ],
   "outputs": [],
   "metadata": {}
  },
  {
   "cell_type": "code",
   "execution_count": 4,
   "source": [
    "first_page.text"
   ],
   "outputs": [
    {
     "output_type": "execute_result",
     "data": {
      "text/plain": [
       "'\\n\\n<html>\\n<script>\\n    if (document.referrer.indexOf(\"comprasnet.com\") > -1) {\\n        location.href = \"branco.htm\"\\n    }\\n</script>\\n<head>\\n<title>Compras.gov.br</title>\\n<meta http-equiv=\"Content-Type\" content=\"text/html; charset=iso-8859-1\">\\n<link rel=\"stylesheet\" href=\"imagens/style1.css\" type=\"text/css\">\\n</head>\\n<frameset rows=\"170,*\" frameborder=\"NO\" border=\"0\" framespacing=\"0\">\\n\\t<frame src=\"t_top.asp\" name=\"nav\" scrolling=\"NO\">  \\n\\t<frameset rows=\"*,55\" cols=\"*\">\\n\\t\\t<frame src=\"/livre/Pregao/lista_pregao_filtro.asp?Opc=2\" name=\"main2\">\\n\\t\\t<frame src=\"main.asp\" name=\"main\" scrolling=\"NO\">\\n\\t</frameset>\\n</frameset>\\n<noframes> \\n\\t<body bgcolor=\"#FFFFFF\" text=\"#000000\">\\n\\t</body>\\n</noframes> \\n</html>\\n'"
      ]
     },
     "metadata": {},
     "execution_count": 4
    }
   ],
   "metadata": {}
  },
  {
   "cell_type": "markdown",
   "source": [
    "## Realizando a consulta\n",
    "\n",
    "Para realizar esta consulta, você deve ter observado que uma requisição `POST` é necessária. Normalmente submissões de formulários são assim mesmo, onde você realiza uma requisição `POST` que o resultado varia a depender dos parâmetros que você insere no _formdata_ (ou dados de formulário). Nesse caso, o _formdata_ deve ser composto pelos parâmetros da nossa consulta (imaginamos).\n",
    "\n",
    "Qual a URL você identificou nessa requisição que realiza a consulta? Guarde-a numa variável:"
   ],
   "metadata": {}
  },
  {
   "cell_type": "code",
   "execution_count": 5,
   "source": [
    "form_url = \"http://comprasnet.gov.br/livre/Pregao/lista_pregao.asp\""
   ],
   "outputs": [],
   "metadata": {}
  },
  {
   "cell_type": "markdown",
   "source": [
    "E o __formdata__? Conseguiu identificar os campos? Alguns são sempre necessários e outros podem não ser...\n",
    "\n",
    "Preencha aqui com os valores adequados (e se desejar, brinque um pouco com esses parâmetros):"
   ],
   "metadata": {}
  },
  {
   "cell_type": "code",
   "execution_count": 6,
   "source": [
    "formdata = {\r\n",
    "  'Opc': '2',\r\n",
    "  'txtlstUasg': '',\r\n",
    "  'rdTpPregao': 'E',\r\n",
    "  'lstSrp': 'T',\r\n",
    "  'lstICMS': 'T',\r\n",
    "  'lstSituacao': '5',\r\n",
    "  'lstTipoSuspensao': '0',\r\n",
    "  'uf': '',\r\n",
    "  'co_uasg': '925013',\r\n",
    "  'numprp': '',\r\n",
    "  'dt_entrega': '',\r\n",
    "  'dt_abertura': ''\r\n",
    "}"
   ],
   "outputs": [],
   "metadata": {}
  },
  {
   "cell_type": "markdown",
   "source": [
    "Com isso podemos fazer nossa consulta:"
   ],
   "metadata": {}
  },
  {
   "cell_type": "code",
   "execution_count": 7,
   "source": [
    "form_response = session.post(form_url, data=formdata)"
   ],
   "outputs": [],
   "metadata": {}
  },
  {
   "cell_type": "code",
   "execution_count": 8,
   "source": [
    "# form_response.text"
   ],
   "outputs": [],
   "metadata": {}
  },
  {
   "cell_type": "markdown",
   "source": [
    "## Agora vamos raspar os itens da página\n",
    "\n",
    "Analise a página de resultados para encontrar o Xpath que seleciona todas as linhas da tabela de resultados, ou seja, queremos que cada linha da tabela seja um resultado dessa nossa seleção.\n",
    "\n",
    "Preencha aqui o Xpath correto para que obtenhamos os pregões da tabela de resultados (apenas as linhas que contém pregões mesmo!): "
   ],
   "metadata": {}
  },
  {
   "cell_type": "code",
   "execution_count": 9,
   "source": [
    "xpath = \"//table[@class='td']//tr[@class='tex3']\"\r\n",
    "rows = form_response.html.xpath(xpath)"
   ],
   "outputs": [],
   "metadata": {}
  },
  {
   "cell_type": "code",
   "execution_count": 10,
   "source": [
    "rows"
   ],
   "outputs": [
    {
     "output_type": "execute_result",
     "data": {
      "text/plain": [
       "[<Element 'tr' bgcolor='#FFFFFF' valign='middle' class=('tex3',)>,\n",
       " <Element 'tr' bgcolor='#FFFFFF' valign='middle' class=('tex3',)>,\n",
       " <Element 'tr' bgcolor='#FFFFFF' valign='middle' class=('tex3',)>,\n",
       " <Element 'tr' bgcolor='#FFFFFF' valign='middle' class=('tex3',)>,\n",
       " <Element 'tr' bgcolor='#FFFFFF' valign='middle' class=('tex3',)>,\n",
       " <Element 'tr' bgcolor='#FFFFFF' valign='middle' class=('tex3',)>,\n",
       " <Element 'tr' bgcolor='#FFFFFF' valign='middle' class=('tex3',)>]"
      ]
     },
     "metadata": {},
     "execution_count": 10
    }
   ],
   "metadata": {}
  },
  {
   "cell_type": "markdown",
   "source": [
    "Vamos observar o que a `requests_html` está selecionando... Na célula a seguir, vamos ver como é o HTML do primeiro elemento da lista, ou seja, a primeira linha.\n",
    "\n",
    "Cada linha deverá ser um elemento `<tr>` com o conteúdo da linha dentro de elementos mais internos. Recomendo analisar um pouco essa estrutura a seguir para entender como a extração de cada campo irá funcionar."
   ],
   "metadata": {}
  },
  {
   "cell_type": "code",
   "execution_count": 12,
   "source": [
    "print(rows[0].html)"
   ],
   "outputs": [
    {
     "output_type": "stream",
     "name": "stdout",
     "text": [
      "<tr bgcolor=\"#FFFFFF\" valign=\"middle\" class=\"tex3\">\n",
      "<td align=\"center\">\n",
      "<a href=\"#\" onclick=\"lista_itens('962837','492021');\">492021</a>\n",
      "</td>\n",
      "<td align=\"center\">925013</td>\n",
      "<td align=\"center\">PMSP - SECRETARIA MUNICIPAL DE EDUCAÇÃO</td>\n",
      "<td align=\"center\">19/07/2021 08:00</td>\n",
      "<td align=\"center\">29/07/2021 09:30</td>\n",
      "<td align=\"center\">Julgamento/Habilitação</td>\n",
      "<td align=\"center\">\n",
      "<a href=\"javascript:void(0)\" onclick=\"Motivo_Suspensao(962837, '1');\">Suspensão Administrativa&#13;\n",
      "</a>\n",
      "<br/>\n",
      "<a href=\"javascript:void(0)\" onclick=\"Esclar_Pregao(962837);\">Esclarecimentos</a><br/>\n",
      "<a href=\"javascript:void(0)\" onclick=\"Avisos_Pregao(962837);\">Avisos</a><br/>\n",
      "</td>\n",
      "</tr>\n"
     ]
    }
   ],
   "metadata": {}
  },
  {
   "cell_type": "markdown",
   "source": [
    "Vendo como a `requests_html` está enxergando este item, podemos esclarecer uma coisa sobre Xpaths relativos. Se você lembra da aula de Xpath, então talvez se confunda um pouco ao criar os Xpaths para extrair as informações de cada campo da linha.\n",
    "\n",
    "Mas de onde viria essa confusão? Bem, possivelmente você imaginaria que o elemento atual que a `requests_html` estaria \"enxergando\" seria o `<tr>` certo? E que para selecionar qualquer elemento a partir deste elemento atual precisaríamos \"descer a árvore de elementos\" relativamente a partir dele (`\"./elemento1/elemento2\"`). Porém, a `requests_html` funciona de maneira diferente, e o `<tr>` é um elemento interno do elemento atual (o único descendente imediato, de forma mais específica). Ou seja, é como se tivéssemos um novo documento HTML onde o topo da árvore seria o elemento `<tr>` e apenas ele.\n",
    "\n",
    "Por isso, aqui você irá preencher o xpath **a partir** do trecho onde está o `tr` nos Xpaths abaixo.\n",
    "\n",
    "Queremos raspar **o texto** de cada campo apresentado na tabela (exceto o campo \"Informações do Pregão\") e salvar todos os itens em formato de dicionário numa lista de pregões:"
   ],
   "metadata": {}
  },
  {
   "cell_type": "code",
   "execution_count": 12,
   "source": [
    "rows[0].xpath(\"./tr/td[1]/a/text()\")"
   ],
   "outputs": [
    {
     "output_type": "execute_result",
     "data": {
      "text/plain": [
       "['492021']"
      ]
     },
     "metadata": {},
     "execution_count": 12
    }
   ],
   "metadata": {}
  },
  {
   "cell_type": "code",
   "execution_count": 13,
   "source": [
    "pregoes = []\r\n",
    "for row in rows:\r\n",
    "    numero_pregao = row.xpath(\"./tr/td[1]/a/text()\")[0]\r\n",
    "    codigo_uasg = row.xpath(\"./tr/td[2]/text()\")[0]\r\n",
    "    nome_uasg = row.xpath(\"./tr/td[3]/text()\")[0]\r\n",
    "    data_hora_inicio = row.xpath(\"./tr/td[4]/text()\")[0]\r\n",
    "    data_hora_abertura = row.xpath(\"./tr/td[5]/text()\")[0]\r\n",
    "    situacao = row.xpath(\"./tr/td[6]/text()\")[0]\r\n",
    "    item = {\r\n",
    "        \"numero_pregao\": numero_pregao,\r\n",
    "        \"codigo_uasg\": codigo_uasg,\r\n",
    "        \"nome_uasg\": nome_uasg,\r\n",
    "        \"data_hora_inicio\": data_hora_inicio,\r\n",
    "        \"data_hora_abertura\": data_hora_abertura,\r\n",
    "        \"situacao\": situacao,\r\n",
    "    }\r\n",
    "    pregoes.append(item)"
   ],
   "outputs": [],
   "metadata": {}
  },
  {
   "cell_type": "code",
   "execution_count": 14,
   "source": [
    "pregoes"
   ],
   "outputs": [
    {
     "output_type": "execute_result",
     "data": {
      "text/plain": [
       "[{'numero_pregao': '492021',\n",
       "  'codigo_uasg': '925013',\n",
       "  'nome_uasg': 'PMSP - SECRETARIA MUNICIPAL DE EDUCAÇÃO',\n",
       "  'data_hora_inicio': '19/07/2021 08:00',\n",
       "  'data_hora_abertura': '29/07/2021 09:30',\n",
       "  'situacao': 'Julgamento/Habilitação'},\n",
       " {'numero_pregao': '572021',\n",
       "  'codigo_uasg': '925013',\n",
       "  'nome_uasg': 'PMSP - SECRETARIA MUNICIPAL DE EDUCAÇÃO',\n",
       "  'data_hora_inicio': '12/08/2021 08:00',\n",
       "  'data_hora_abertura': '24/08/2021 09:30',\n",
       "  'situacao': 'Julgamento/Habilitação'},\n",
       " {'numero_pregao': '602021',\n",
       "  'codigo_uasg': '925013',\n",
       "  'nome_uasg': 'PMSP - SECRETARIA MUNICIPAL DE EDUCAÇÃO',\n",
       "  'data_hora_inicio': '19/08/2021 08:00',\n",
       "  'data_hora_abertura': '31/08/2021 09:30',\n",
       "  'situacao': 'Julgamento/Habilitação'},\n",
       " {'numero_pregao': '612021',\n",
       "  'codigo_uasg': '925013',\n",
       "  'nome_uasg': 'PMSP - SECRETARIA MUNICIPAL DE EDUCAÇÃO',\n",
       "  'data_hora_inicio': '25/08/2021 08:00',\n",
       "  'data_hora_abertura': '08/09/2021 09:30',\n",
       "  'situacao': 'Julgamento/Habilitação'},\n",
       " {'numero_pregao': '622021',\n",
       "  'codigo_uasg': '925013',\n",
       "  'nome_uasg': 'PMSP - SECRETARIA MUNICIPAL DE EDUCAÇÃO',\n",
       "  'data_hora_inicio': '03/09/2021 08:00',\n",
       "  'data_hora_abertura': '17/09/2021 09:30',\n",
       "  'situacao': 'Julgamento/Habilitação'},\n",
       " {'numero_pregao': '632021',\n",
       "  'codigo_uasg': '925013',\n",
       "  'nome_uasg': 'PMSP - SECRETARIA MUNICIPAL DE EDUCAÇÃO',\n",
       "  'data_hora_inicio': '09/09/2021 08:00',\n",
       "  'data_hora_abertura': '21/09/2021 09:30',\n",
       "  'situacao': 'Julgamento/Habilitação'},\n",
       " {'numero_pregao': '642021',\n",
       "  'codigo_uasg': '925013',\n",
       "  'nome_uasg': 'PMSP - SECRETARIA MUNICIPAL DE EDUCAÇÃO',\n",
       "  'data_hora_inicio': '09/09/2021 08:00',\n",
       "  'data_hora_abertura': '21/09/2021 09:30',\n",
       "  'situacao': 'Julgamento/Habilitação'}]"
      ]
     },
     "metadata": {},
     "execution_count": 14
    }
   ],
   "metadata": {}
  },
  {
   "cell_type": "markdown",
   "source": [
    "## Salvando os itens\n",
    "\n",
    "Com a nossa lista preenchida, podemos salvar. Primeiro, uma maneira de salvar itens em CSV sem precisar utilizar bibliotecas externas. Esta versão mostra que precisamos de apenas alguns comandos para escrever o CSV:\n",
    "\n",
    "1. Um comando que indique que queremos criar um arquivo em modo de escrita;\n",
    "2. Outro que informe quais são os campos que devem ser as colunas do CSV (através dos nomes dos campos do primeiro item da lista de dicionários) neste arquivo\n",
    "3. Um que escreve o cabeçalho (as colunas) do CSV\n",
    "4. Um que escreve todas as linhas no arquivo a partir da nossa lista de dicionários"
   ],
   "metadata": {}
  },
  {
   "cell_type": "code",
   "execution_count": 15,
   "source": [
    "with open('pregoes.csv', 'w') as f:\r\n",
    "    fieldnames = pregoes[0].keys()\r\n",
    "    writer = csv.DictWriter(f, fieldnames=fieldnames)\r\n",
    "    writer.writeheader()\r\n",
    "    writer.writerows(pregoes)"
   ],
   "outputs": [],
   "metadata": {}
  },
  {
   "cell_type": "markdown",
   "source": [
    "Mas existe maneira mais fácil usando `pandas`, veja se você consegue criar um `DataFrame` a partir da variável `pregoes`:"
   ],
   "metadata": {}
  },
  {
   "cell_type": "code",
   "execution_count": 16,
   "source": [
    "df_pregoes = pd.DataFrame(pregoes)"
   ],
   "outputs": [],
   "metadata": {}
  },
  {
   "cell_type": "code",
   "execution_count": 17,
   "source": [
    "df_pregoes"
   ],
   "outputs": [
    {
     "output_type": "execute_result",
     "data": {
      "text/html": [
       "<div>\n",
       "<style scoped>\n",
       "    .dataframe tbody tr th:only-of-type {\n",
       "        vertical-align: middle;\n",
       "    }\n",
       "\n",
       "    .dataframe tbody tr th {\n",
       "        vertical-align: top;\n",
       "    }\n",
       "\n",
       "    .dataframe thead th {\n",
       "        text-align: right;\n",
       "    }\n",
       "</style>\n",
       "<table border=\"1\" class=\"dataframe\">\n",
       "  <thead>\n",
       "    <tr style=\"text-align: right;\">\n",
       "      <th></th>\n",
       "      <th>numero_pregao</th>\n",
       "      <th>codigo_uasg</th>\n",
       "      <th>nome_uasg</th>\n",
       "      <th>data_hora_inicio</th>\n",
       "      <th>data_hora_abertura</th>\n",
       "      <th>situacao</th>\n",
       "    </tr>\n",
       "  </thead>\n",
       "  <tbody>\n",
       "    <tr>\n",
       "      <th>0</th>\n",
       "      <td>492021</td>\n",
       "      <td>925013</td>\n",
       "      <td>PMSP - SECRETARIA MUNICIPAL DE EDUCAÇÃO</td>\n",
       "      <td>19/07/2021 08:00</td>\n",
       "      <td>29/07/2021 09:30</td>\n",
       "      <td>Julgamento/Habilitação</td>\n",
       "    </tr>\n",
       "    <tr>\n",
       "      <th>1</th>\n",
       "      <td>572021</td>\n",
       "      <td>925013</td>\n",
       "      <td>PMSP - SECRETARIA MUNICIPAL DE EDUCAÇÃO</td>\n",
       "      <td>12/08/2021 08:00</td>\n",
       "      <td>24/08/2021 09:30</td>\n",
       "      <td>Julgamento/Habilitação</td>\n",
       "    </tr>\n",
       "    <tr>\n",
       "      <th>2</th>\n",
       "      <td>602021</td>\n",
       "      <td>925013</td>\n",
       "      <td>PMSP - SECRETARIA MUNICIPAL DE EDUCAÇÃO</td>\n",
       "      <td>19/08/2021 08:00</td>\n",
       "      <td>31/08/2021 09:30</td>\n",
       "      <td>Julgamento/Habilitação</td>\n",
       "    </tr>\n",
       "    <tr>\n",
       "      <th>3</th>\n",
       "      <td>612021</td>\n",
       "      <td>925013</td>\n",
       "      <td>PMSP - SECRETARIA MUNICIPAL DE EDUCAÇÃO</td>\n",
       "      <td>25/08/2021 08:00</td>\n",
       "      <td>08/09/2021 09:30</td>\n",
       "      <td>Julgamento/Habilitação</td>\n",
       "    </tr>\n",
       "    <tr>\n",
       "      <th>4</th>\n",
       "      <td>622021</td>\n",
       "      <td>925013</td>\n",
       "      <td>PMSP - SECRETARIA MUNICIPAL DE EDUCAÇÃO</td>\n",
       "      <td>03/09/2021 08:00</td>\n",
       "      <td>17/09/2021 09:30</td>\n",
       "      <td>Julgamento/Habilitação</td>\n",
       "    </tr>\n",
       "    <tr>\n",
       "      <th>5</th>\n",
       "      <td>632021</td>\n",
       "      <td>925013</td>\n",
       "      <td>PMSP - SECRETARIA MUNICIPAL DE EDUCAÇÃO</td>\n",
       "      <td>09/09/2021 08:00</td>\n",
       "      <td>21/09/2021 09:30</td>\n",
       "      <td>Julgamento/Habilitação</td>\n",
       "    </tr>\n",
       "    <tr>\n",
       "      <th>6</th>\n",
       "      <td>642021</td>\n",
       "      <td>925013</td>\n",
       "      <td>PMSP - SECRETARIA MUNICIPAL DE EDUCAÇÃO</td>\n",
       "      <td>09/09/2021 08:00</td>\n",
       "      <td>21/09/2021 09:30</td>\n",
       "      <td>Julgamento/Habilitação</td>\n",
       "    </tr>\n",
       "  </tbody>\n",
       "</table>\n",
       "</div>"
      ],
      "text/plain": [
       "  numero_pregao codigo_uasg                                nome_uasg  \\\n",
       "0        492021      925013  PMSP - SECRETARIA MUNICIPAL DE EDUCAÇÃO   \n",
       "1        572021      925013  PMSP - SECRETARIA MUNICIPAL DE EDUCAÇÃO   \n",
       "2        602021      925013  PMSP - SECRETARIA MUNICIPAL DE EDUCAÇÃO   \n",
       "3        612021      925013  PMSP - SECRETARIA MUNICIPAL DE EDUCAÇÃO   \n",
       "4        622021      925013  PMSP - SECRETARIA MUNICIPAL DE EDUCAÇÃO   \n",
       "5        632021      925013  PMSP - SECRETARIA MUNICIPAL DE EDUCAÇÃO   \n",
       "6        642021      925013  PMSP - SECRETARIA MUNICIPAL DE EDUCAÇÃO   \n",
       "\n",
       "   data_hora_inicio data_hora_abertura                situacao  \n",
       "0  19/07/2021 08:00   29/07/2021 09:30  Julgamento/Habilitação  \n",
       "1  12/08/2021 08:00   24/08/2021 09:30  Julgamento/Habilitação  \n",
       "2  19/08/2021 08:00   31/08/2021 09:30  Julgamento/Habilitação  \n",
       "3  25/08/2021 08:00   08/09/2021 09:30  Julgamento/Habilitação  \n",
       "4  03/09/2021 08:00   17/09/2021 09:30  Julgamento/Habilitação  \n",
       "5  09/09/2021 08:00   21/09/2021 09:30  Julgamento/Habilitação  \n",
       "6  09/09/2021 08:00   21/09/2021 09:30  Julgamento/Habilitação  "
      ]
     },
     "metadata": {},
     "execution_count": 17
    }
   ],
   "metadata": {}
  },
  {
   "cell_type": "markdown",
   "source": [
    "E agora salve o `DataFrame` em um arquivo `'pregoes_pandas.csv'` (é recomendável utilizar o parâmetro `index=False` para suprimir a coluna \"vazia\" do índice do `DataFrame`):"
   ],
   "metadata": {}
  },
  {
   "cell_type": "code",
   "execution_count": 18,
   "source": [
    "df_pregoes.to_csv('pregoes_pandas.csv', index=False)"
   ],
   "outputs": [],
   "metadata": {}
  },
  {
   "cell_type": "markdown",
   "source": [
    "## Finalizando o desafio!\n",
    "\n",
    "Pronto! Temos uma consulta! E ela pode ser modificada para selecionar pregões de outras instituições também!\n",
    "\n",
    "Se tiver curiosidade e quiser tentar fazer consultas parecidas para outras situações de pregões (que não estão em andamento) [acesse a página de consultas do Portal de Compras do Governo Federal](https://www.gov.br/compras/pt-br/assuntos/consultas-1) e na aba \"Pregões\" teremos consultas praticamente idênticas a que você acabou de fazer.\n",
    "\n",
    "Boa jornada!"
   ],
   "metadata": {}
  }
 ],
 "metadata": {
  "kernelspec": {
   "name": "python3",
   "display_name": "Python 3.9.6 64-bit ('env': venv)"
  },
  "language_info": {
   "codemirror_mode": {
    "name": "ipython",
    "version": 3
   },
   "file_extension": ".py",
   "mimetype": "text/x-python",
   "name": "python",
   "nbconvert_exporter": "python",
   "pygments_lexer": "ipython3",
   "version": "3.9.6"
  },
  "interpreter": {
   "hash": "ebd74a025396637c742ea4567281786878b5475963cf97e0bf6beb9df69a31d7"
  }
 },
 "nbformat": 4,
 "nbformat_minor": 5
}